{
 "cells": [
  {
   "cell_type": "code",
   "execution_count": 1,
   "metadata": {},
   "outputs": [],
   "source": [
    "import numpy as np\n",
    "import matplotlib.pyplot as plt\n",
    "from PIL import Image\n",
    "from pslib import *\n",
    "import imageio"
   ]
  },
  {
   "cell_type": "code",
   "execution_count": 2,
   "metadata": {},
   "outputs": [],
   "source": [
    "gaussian_kernel = np.load('gaussian-kernel.npy')"
   ]
  },
  {
   "cell_type": "code",
   "execution_count": 3,
   "metadata": {},
   "outputs": [],
   "source": [
    "def convolution(img, kernel):\n",
    "    MAX_ROWS = img.shape[0]\n",
    "    MAX_COLS = img.shape[1]\n",
    "    kernel_size = kernel.shape[0]\n",
    "    pad_amount = int(kernel_size/2)\n",
    "    gaussian_convolved_img = np.zeros(img.shape)\n",
    "    for i in range(3):\n",
    "        zero_padded = np.pad(img[:,:,i], u_pad=pad_amount, v_pad=pad_amount)\n",
    "        for r in range(pad_amount, MAX_ROWS+pad_amount):\n",
    "            for c in range(pad_amount, MAX_COLS+pad_amount):\n",
    "    #             print(\"r-pad_amount\", r-pad_amount)\n",
    "    #             print(\"r-pad_amount+kernel_size\", r-pad_amount+kernel_size)\n",
    "                conv = np.multiply(zero_padded[r-pad_amount:r-pad_amount+kernel_size, c-pad_amount:c-pad_amount+kernel_size],kernel)\n",
    "                conv = np.sum(conv)\n",
    "                gaussian_convolved_img[r-pad_amount, c-pad_amount, i] = float(conv)\n",
    "    return gaussian_convolved_img"
   ]
  },
  {
   "cell_type": "code",
   "execution_count": 4,
   "metadata": {},
   "outputs": [],
   "source": [
    "def make_one_D_kernel(kernel,img):\n",
    "    MAX_ROWS = img.shape[0]\n",
    "    MAX_COLS = img.shape[1]\n",
    "    one_d_gaussian_kernel = kernel\n",
    "    \n",
    "    kernel_matrix = np.zeros((MAX_ROWS, MAX_ROWS))\n",
    "    # print(kernel_matrix.shape)\n",
    "    for m in range(MAX_ROWS):\n",
    "    #     print(m)\n",
    "    #     print(m+(len(one_d_gaussian_kernel)))\n",
    "    #     print(one_d_gaussian_kernel)\n",
    "    #     print()\n",
    "        over = int(len(one_d_gaussian_kernel)/2)\n",
    "        mid = over\n",
    "        lower = max(0,m-over)\n",
    "        upper = min(m+over, MAX_ROWS)\n",
    "        kernel_lower = mid-over if m-over >= 0 else abs(m-over)\n",
    "        kernel_upper = mid+over if m+over < MAX_ROWS else (mid+over)-(m+over-MAX_ROWS)\n",
    "        kernel_matrix[m, lower:upper] = one_d_gaussian_kernel[kernel_lower:kernel_upper]\n",
    "    return kernel_matrix"
   ]
  },
  {
   "cell_type": "code",
   "execution_count": 5,
   "metadata": {},
   "outputs": [],
   "source": [
    "def down_sample(img, factor=2):\n",
    "    MAX_ROWS = img.shape[0]\n",
    "    MAX_COLS = img.shape[1]\n",
    "    small_img = np.zeros((int(MAX_ROWS/2), int(MAX_COLS/2), 3))\n",
    "    \n",
    "    small_img[:,:,0]=np.resize(image=img[:,:,0], size=[int(MAX_ROWS/2), int(MAX_COLS/2)])\n",
    "    small_img[:,:,1]=np.resize(image=img[:,:,1], size=[int(MAX_ROWS/2), int(MAX_COLS/2)])\n",
    "    small_img[:,:,2]=np.resize(image=img[:,:,2], size=[int(MAX_ROWS/2), int(MAX_COLS/2)])\n",
    "    return small_img"
   ]
  },
  {
   "cell_type": "code",
   "execution_count": 6,
   "metadata": {},
   "outputs": [],
   "source": [
    "def up_sample(img, factor=2):\n",
    "    MAX_ROWS = img.shape[0]\n",
    "    MAX_COLS = img.shape[1]\n",
    "    small_img = np.zeros((int(MAX_ROWS*2), int(MAX_COLS*2), 3))\n",
    "    \n",
    "    small_img[:,:,0]=np.resize(image=img[:,:,0], size=[int(MAX_ROWS*2), int(MAX_COLS*2)])\n",
    "    small_img[:,:,1]=np.resize(image=img[:,:,1], size=[int(MAX_ROWS*2), int(MAX_COLS*2)])\n",
    "    small_img[:,:,2]=np.resize(image=img[:,:,2], size=[int(MAX_ROWS*2), int(MAX_COLS*2)])\n",
    "    return small_img"
   ]
  },
  {
   "cell_type": "code",
   "execution_count": 7,
   "metadata": {},
   "outputs": [],
   "source": [
    "def one_level_laplacian(img,G):\n",
    "    # generate Gaussian pyramid for Apple\n",
    "    A = img.copy()\n",
    "\n",
    "    # Gaussian blur on Apple\n",
    "    blurred_A = convolution(A, G)\n",
    "\n",
    "    # Downsample blurred A\n",
    "    small_A = down_sample(blurred_A)\n",
    "\n",
    "    # Upsample small, blurred A\n",
    "    # insert zeros between pixels, then apply a gaussian low pass filter\n",
    "    large_A = up_sample(small_A)\n",
    "    upsampled_A = convolution(large_A, G)\n",
    "\n",
    "    # generate Laplacian level for A\n",
    "    laplace_A = A - upsampled_A\n",
    "\n",
    "    # reconstruct A\n",
    "#     reconstruct_A = laplace_A + upsampled_A\n",
    "    \n",
    "    return small_A, upsampled_A, laplace_A"
   ]
  },
  {
   "cell_type": "code",
   "execution_count": 8,
   "metadata": {},
   "outputs": [],
   "source": [
    "def F_transform(small_A, G):\n",
    "    large_A = up_sample(small_A)\n",
    "    upsampled_A = convolution(large_A, G)\n",
    "    return upsampled_A"
   ]
  },
  {
   "cell_type": "code",
   "execution_count": 9,
   "metadata": {},
   "outputs": [],
   "source": [
    "def gamma_decode(img):\n",
    "    new_img = np.zeros((img.shape))\n",
    "    for r in range(img.shape[0]):\n",
    "        for c in range(img.shape[1]):\n",
    "            new_img[r,c,0] = np.power(img[r,c,0], 1/1.2)\n",
    "            new_img[r,c,1] = np.power(img[r,c,1], 1/1.2)\n",
    "            new_img[r,c,2] = np.power(img[r,c,2], 1/1.2)\n",
    "    return new_img"
   ]
  },
  {
   "cell_type": "code",
   "execution_count": 14,
   "metadata": {},
   "outputs": [
    {
     "name": "stderr",
     "output_type": "stream",
     "text": [
      "C:\\Users\\User\\AppData\\Local\\Temp\\ipykernel_2616\\2430508426.py:1: DeprecationWarning: Starting with ImageIO v3 the behavior of this function will switch to that of iio.v3.imread. To keep the current behavior (and make this warning disappear) use `import imageio.v2 as imageio` or call `imageio.v2.imread` directly.\n",
      "  img = imageio.imread('apple.png')\n"
     ]
    },
    {
     "name": "stdout",
     "output_type": "stream",
     "text": [
      "[[[68.31209486 72.22830686 46.41588834]\n",
      "  [68.31209486 72.22830686 46.41588834]\n",
      "  [68.31209486 71.16455303 47.57341786]\n",
      "  ...\n",
      "  [80.2843861  82.01393667 66.51719609]\n",
      "  [80.2843861  81.66861461 67.23630397]\n",
      "  [81.32300027 82.70371084 68.31209486]]\n",
      "\n",
      " [[67.59528088 71.51948877 45.64099073]\n",
      "  [67.59528088 71.51948877 45.64099073]\n",
      "  [67.9538769  70.80926287 47.18820707]\n",
      "  ...\n",
      "  [76.10248048 77.85038898 62.16896258]\n",
      "  [76.45269926 77.85038898 63.26157524]\n",
      "  [77.85038898 79.24307761 64.71255648]]\n",
      "\n",
      " [[66.15705928 70.45361581 46.80236632]\n",
      "  [66.15705928 70.45361581 46.80236632]\n",
      "  [66.15705928 70.09760934 47.57341786]\n",
      "  ...\n",
      "  [71.87407258 73.64179632 57.7589727 ]\n",
      "  [72.58219403 73.99431838 59.23621926]\n",
      "  [74.34650486 75.75193907 61.0724956 ]]\n",
      "\n",
      " ...\n",
      "\n",
      " [[57.7589727  67.23630397 61.0724956 ]\n",
      "  [58.12898589 67.59528088 61.43841876]\n",
      "  [58.12898589 67.59528088 62.16896258]\n",
      "  ...\n",
      "  [52.90396448 72.22830686 69.02740761]\n",
      "  [53.65651575 72.22830686 69.38450784]\n",
      "  [56.64606775 75.04987996 72.22830686]]\n",
      "\n",
      " [[75.04987996 79.59048284 77.50144032]\n",
      "  [75.04987996 79.59048284 77.50144032]\n",
      "  [75.40107294 79.24307761 77.50144032]\n",
      "  ...\n",
      "  [73.28893643 81.66861461 80.2843861 ]\n",
      "  [74.34650486 81.66861461 80.63088778]\n",
      "  [75.75193907 83.04816633 82.01393667]]\n",
      "\n",
      " [[88.86152143 93.25597132 91.23302993]\n",
      "  [88.86152143 93.25597132 91.23302993]\n",
      "  [89.20107653 92.9194285  91.23302993]\n",
      "  ...\n",
      "  [86.47728497 94.59972746 93.25597132]\n",
      "  [87.84129234 94.93506873 93.92833   ]\n",
      "  [88.18163074 95.27017325 94.26414828]]]\n"
     ]
    }
   ],
   "source": [
    "img = imageio.imread('apple.png')\n",
    "img = gamma_decode(img)"
   ]
  },
  {
   "cell_type": "code",
   "execution_count": 11,
   "metadata": {},
   "outputs": [
    {
     "name": "stderr",
     "output_type": "stream",
     "text": [
      "Clipping input data to the valid range for imshow with RGB data ([0..1] for floats or [0..255] for integers).\n"
     ]
    },
    {
     "data": {
      "image/png": "[encoded data removed]",
      "text/plain": [
       "<Figure size 640x480 with 1 Axes>"
      ]
     },
     "metadata": {},
     "output_type": "display_data"
    }
   ],
   "source": [
    "plt.imshow(img)\n",
    "plt.show()"
   ]
  },
  {
   "cell_type": "code",
   "execution_count": 12,
   "metadata": {},
   "outputs": [
    {
     "data": {
      "text/plain": [
       "(448, 624, 3)"
      ]
     },
     "execution_count": 12,
     "metadata": {},
     "output_type": "execute_result"
    }
   ],
   "source": [
    "img.shape"
   ]
  },
  {
   "cell_type": "code",
   "execution_count": 13,
   "metadata": {},
   "outputs": [
    {
     "name": "stdout",
     "output_type": "stream",
     "text": [
      "MAX_ROWS =  448\n",
      "MAX_COLS =  624\n"
     ]
    }
   ],
   "source": [
    "MAX_ROWS = img.shape[0]\n",
    "MAX_COLS = img.shape[1]\n",
    "print(\"MAX_ROWS = \", MAX_ROWS)\n",
    "print(\"MAX_COLS = \", MAX_COLS)"
   ]
  }
 ],
 "metadata": {
  "kernelspec": {
   "display_name": "Python 3.8.9 64-bit",
   "language": "python",
   "name": "python3"
  },
  "language_info": {
   "codemirror_mode": {
    "name": "ipython",
    "version": 3
   },
   "file_extension": ".py",
   "mimetype": "text/x-python",
   "name": "python",
   "nbconvert_exporter": "python",
   "pygments_lexer": "ipython3",
   "version": "3.8.9"
  },
  "orig_nbformat": 4,
  "vscode": {
   "interpreter": {
    "hash": "2190eabb05b01e91bf38d57aa3438a06750fc4a26f7ef39b1832796edb90a543"
   }
  }
 },
 "nbformat": 4,
 "nbformat_minor": 2
}
