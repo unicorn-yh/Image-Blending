{
 "cells": [
  {
   "cell_type": "code",
   "execution_count": 1,
   "metadata": {},
   "outputs": [],
   "source": [
    "import cv2\n",
    "import numpy as np"
   ]
  },
  {
   "cell_type": "code",
   "execution_count": 2,
   "metadata": {},
   "outputs": [],
   "source": [
    "# 这里图像的尺寸必须为2的n次幂\n",
    "A = cv2.imread('apple.png')\n",
    "A = cv2.resize(A, (512,512), interpolation=cv2.INTER_CUBIC) \n",
    "B = cv2.imread('orange.png')\n",
    "B = cv2.resize(B, (512,512), interpolation=cv2.INTER_CUBIC)"
   ]
  },
  {
   "cell_type": "code",
   "execution_count": 3,
   "metadata": {},
   "outputs": [],
   "source": [
    "# 生成8层的高斯金字塔gpA\n",
    "G = A.copy()\n",
    "gpA = [G]\n",
    "for i in range(7):\n",
    "    # 进行7次高斯模糊+下采样\n",
    "    G = cv2.pyrDown(G)\n",
    "    # 把每次高斯模糊+下采样的结果送给gpA\n",
    "    gpA.append(G)\n",
    "\n",
    "# 生成8层的高斯金字塔gpB\n",
    "G = B.copy()\n",
    "gpB = [G]\n",
    "for i in range(7):\n",
    "    # 进行7次高斯模糊+下采样\n",
    "    G = cv2.pyrDown(G)\n",
    "    # 把每次高斯模糊+下采样的结果送给gpB\n",
    "    gpB.append(G)"
   ]
  },
  {
   "cell_type": "code",
   "execution_count": 4,
   "metadata": {},
   "outputs": [],
   "source": [
    "# 把两个高斯金字塔进行合并\n",
    "LR = []\n",
    "# zip(lpA,lpB)把两个高斯金字塔各层的两个图像组合成一个元组，然后各元组构成一个大zip\n",
    "# 对于各元组中的两个图像\n",
    "for la,lb in zip(gpA,gpB):\n",
    "    # 取la或lb的尺寸皆可\n",
    "    rows,cols,dpt = la.shape\n",
    "    # 利用np.hstack将这两个图像“一半一半”地拼接起来\n",
    "    # 取la的左边一半和lb的右边一半拼成一个融合后的图，结果赋给ls\n",
    "    lr = np.hstack((la[:,0:cols//2], lb[:,cols//2:]))\n",
    "    # 两个拉普拉斯金字塔各层图像融合后的结果赋给LS\n",
    "    LR.append(lr)"
   ]
  },
  {
   "cell_type": "code",
   "execution_count": 5,
   "metadata": {},
   "outputs": [],
   "source": [
    "# 用融合后的拉普拉斯金字塔重构出最终图像\n",
    "# 初始化ls为融合后拉普拉斯金字塔的最高层\n",
    "# 下面的循环结束后ls就是要求的最终结果图像\n",
    "lr = LR[7]\n",
    "for i in range(6,-1,-1):\n",
    "    # 每层图像先上采样，再和当前层的下一层图像相加，结果再赋给ls\n",
    "    lr = cv2.pyrUp(lr)\n",
    "    lr = cv2.add(lr, LR[i])"
   ]
  },
  {
   "cell_type": "code",
   "execution_count": 6,
   "metadata": {},
   "outputs": [],
   "source": [
    "# 生成8层拉普拉斯金字塔\n",
    "# 从顶层开始构建\n",
    "# 顶层即高斯金字塔的顶层\n",
    "lpA = [gpA[7]]\n",
    "# 7 6 5 4 3 2 1\n",
    "for i in range(7,0,-1):\n",
    "    # 从顶层开始，不断上采样\n",
    "    GE = cv2.pyrUp(gpA[i])\n",
    "    # 用下一层的高斯减去上层高斯的上采样\n",
    "    L = cv2.subtract(gpA[i-1],GE)\n",
    "    # 结果送给拉普拉斯金字塔\n",
    "    lpA.append(L)\n",
    " \n",
    "lpB = [gpB[7]]\n",
    "for i in range(7,0,-1):\n",
    "    GE = cv2.pyrUp(gpB[i])\n",
    "    L = cv2.subtract(gpB[i-1],GE)\n",
    "    lpB.append(L)"
   ]
  },
  {
   "cell_type": "code",
   "execution_count": 7,
   "metadata": {},
   "outputs": [],
   "source": [
    "# 把两个拉普拉斯金字塔进行合并\n",
    "LS = []\n",
    "# zip(lpA,lpB)把两个拉普拉斯金字塔各层的两个图像组合成一个元组，然后各元组构成一个大zip\n",
    "# 对于各元组中的两个图像\n",
    "for la,lb in zip(lpA,lpB):\n",
    "    # 取la或lb的尺寸皆可\n",
    "    rows,cols,dpt = la.shape\n",
    "    # 利用np.hstack将这两个图像“一半一半”地拼接起来\n",
    "    # 取la的左边一半和lb的右边一半拼成一个融合后的图，结果赋给ls\n",
    "    ls = np.hstack((la[:,0:cols//2], lb[:,cols//2:]))\n",
    "    # 两个拉普拉斯金字塔各层图像融合后的结果赋给LS\n",
    "    LS.append(ls)"
   ]
  },
  {
   "cell_type": "code",
   "execution_count": 8,
   "metadata": {},
   "outputs": [],
   "source": [
    "# 用融合后的拉普拉斯金字塔重构出最终图像\n",
    "# 初始化ls为融合后拉普拉斯金字塔的最高层\n",
    "# 下面的循环结束后ls就是要求的最终结果图像\n",
    "ls = LS[0]\n",
    "for i in range(1,8):\n",
    "    # 每层图像先上采样，再和当前层的下一层图像相加，结果再赋给ls\n",
    "    ls = cv2.pyrUp(ls)\n",
    "    ls = cv2.add(ls, LS[i])\n",
    "\n",
    "with_pyramid = lr + ls"
   ]
  },
  {
   "cell_type": "code",
   "execution_count": 9,
   "metadata": {},
   "outputs": [],
   "source": [
    "# 不用金字塔融合，直接生硬地连接两幅原始图像\n",
    "without_pyramid = np.hstack((A[:,:cols//2],B[:,cols//2:]))"
   ]
  },
  {
   "cell_type": "code",
   "execution_count": 10,
   "metadata": {},
   "outputs": [],
   "source": [
    "# 对比一下结果\n",
    "cv2.imshow(\"with_pyramid\",with_pyramid)\n",
    "cv2.imshow(\"without_pyramid\",without_pyramid)"
   ]
  },
  {
   "cell_type": "code",
   "execution_count": 11,
   "metadata": {},
   "outputs": [],
   "source": [
    "\n",
    "# 按任意键关闭所有窗口\n",
    "cv2.waitKey()\n",
    "cv2.destroyAllWindows()"
   ]
  },
  {
   "cell_type": "code",
   "execution_count": null,
   "metadata": {},
   "outputs": [],
   "source": [
    "# -*- coding: utf-8 -*-\n",
    "import cv2\n",
    "import numpy as np\n",
    "\n",
    "# 这里图像的尺寸必须为2的n次幂\n",
    "A = cv2.imread('apple.png')\n",
    "A = cv2.resize(A, (512,512), interpolation=cv2.INTER_CUBIC) \n",
    "B = cv2.imread('orange.png')\n",
    "B = cv2.resize(B, (512,512), interpolation=cv2.INTER_CUBIC)\n",
    "\n",
    "# 生成8层的高斯金字塔gpA\n",
    "G = A.copy()\n",
    "gpA = [G]\n",
    "for i in range(7):\n",
    "    # 进行7次高斯模糊+下采样\n",
    "    G = cv2.pyrDown(G)\n",
    "    # 把每次高斯模糊+下采样的结果送给gpA\n",
    "    gpA.append(G)\n",
    "\n",
    "# 生成8层的高斯金字塔gpB\n",
    "G = B.copy()\n",
    "gpB = [G]\n",
    "for i in range(7):\n",
    "    # 进行7次高斯模糊+下采样\n",
    "    G = cv2.pyrDown(G)\n",
    "    # 把每次高斯模糊+下采样的结果送给gpB\n",
    "    gpB.append(G)\n",
    "\n",
    "# 把两个高斯金字塔进行合并\n",
    "LR = []\n",
    "# zip(lpA,lpB)把两个高斯金字塔各层的两个图像组合成一个元组，然后各元组构成一个大zip\n",
    "# 对于各元组中的两个图像\n",
    "for la,lb in zip(gpA,gpB):\n",
    "    # 取la或lb的尺寸皆可\n",
    "    rows,cols,dpt = la.shape\n",
    "    # 利用np.hstack将这两个图像“一半一半”地拼接起来\n",
    "    # 取la的左边一半和lb的右边一半拼成一个融合后的图，结果赋给ls\n",
    "    lr = np.hstack((la[:,0:cols//2], lb[:,cols//2:]))\n",
    "    # 两个拉普拉斯金字塔各层图像融合后的结果赋给LS\n",
    "    LR.append(lr)\n",
    "\n",
    "# 用融合后的拉普拉斯金字塔重构出最终图像\n",
    "# 初始化ls为融合后拉普拉斯金字塔的最高层\n",
    "# 下面的循环结束后ls就是要求的最终结果图像\n",
    "lr = LR[7]\n",
    "for i in range(6,-1,-1):\n",
    "    # 每层图像先上采样，再和当前层的下一层图像相加，结果再赋给ls\n",
    "    lr = cv2.pyrUp(lr)\n",
    "    lr = cv2.add(lr, LR[i])\n",
    "#---------------------------------------------------------------------------------------------------\n",
    "# 生成8层拉普拉斯金字塔\n",
    "# 从顶层开始构建\n",
    "# 顶层即高斯金字塔的顶层\n",
    "lpA = [gpA[7]]\n",
    "# 7 6 5 4 3 2 1\n",
    "for i in range(7,0,-1):\n",
    "    # 从顶层开始，不断上采样\n",
    "    GE = cv2.pyrUp(gpA[i])\n",
    "    # 用下一层的高斯减去上层高斯的上采样\n",
    "    L = cv2.subtract(gpA[i-1],GE)\n",
    "    # 结果送给拉普拉斯金字塔\n",
    "    lpA.append(L)\n",
    " \n",
    "lpB = [gpB[7]]\n",
    "for i in range(7,0,-1):\n",
    "    GE = cv2.pyrUp(gpB[i])\n",
    "    L = cv2.subtract(gpB[i-1],GE)\n",
    "    lpB.append(L)\n",
    "\n",
    "# 把两个拉普拉斯金字塔进行合并\n",
    "LS = []\n",
    "# zip(lpA,lpB)把两个拉普拉斯金字塔各层的两个图像组合成一个元组，然后各元组构成一个大zip\n",
    "# 对于各元组中的两个图像\n",
    "for la,lb in zip(lpA,lpB):\n",
    "    # 取la或lb的尺寸皆可\n",
    "    rows,cols,dpt = la.shape\n",
    "    # 利用np.hstack将这两个图像“一半一半”地拼接起来\n",
    "    # 取la的左边一半和lb的右边一半拼成一个融合后的图，结果赋给ls\n",
    "    ls = np.hstack((la[:,0:cols//2], lb[:,cols//2:]))\n",
    "    # 两个拉普拉斯金字塔各层图像融合后的结果赋给LS\n",
    "    LS.append(ls)\n",
    "\n",
    "# 用融合后的拉普拉斯金字塔重构出最终图像\n",
    "# 初始化ls为融合后拉普拉斯金字塔的最高层\n",
    "# 下面的循环结束后ls就是要求的最终结果图像\n",
    "ls = LS[0]\n",
    "for i in range(1,8):\n",
    "    # 每层图像先上采样，再和当前层的下一层图像相加，结果再赋给ls\n",
    "    ls = cv2.pyrUp(ls)\n",
    "    ls = cv2.add(ls, LS[i])\n",
    "\n",
    "with_pyramid = lr + ls\n",
    "\n",
    "# 不用金字塔融合，直接生硬地连接两幅原始图像\n",
    "without_pyramid = np.hstack((A[:,:cols//2],B[:,cols//2:]))\n",
    "\n",
    "# 对比一下结果\n",
    "cv2.imshow(\"with_pyramid\",with_pyramid)\n",
    "cv2.imshow(\"without_pyramid\",without_pyramid)\n",
    " \n",
    "# 按任意键关闭所有窗口\n",
    "cv2.waitKey()\n",
    "cv2.destroyAllWindows()\n",
    "\n"
   ]
  }
 ],
 "metadata": {
  "kernelspec": {
   "display_name": "Python 3.8.9 64-bit",
   "language": "python",
   "name": "python3"
  },
  "language_info": {
   "codemirror_mode": {
    "name": "ipython",
    "version": 3
   },
   "file_extension": ".py",
   "mimetype": "text/x-python",
   "name": "python",
   "nbconvert_exporter": "python",
   "pygments_lexer": "ipython3",
   "version": "3.8.9"
  },
  "orig_nbformat": 4,
  "vscode": {
   "interpreter": {
    "hash": "2190eabb05b01e91bf38d57aa3438a06750fc4a26f7ef39b1832796edb90a543"
   }
  }
 },
 "nbformat": 4,
 "nbformat_minor": 2
}
